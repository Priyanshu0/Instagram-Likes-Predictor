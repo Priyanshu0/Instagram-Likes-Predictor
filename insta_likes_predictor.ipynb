{
 "cells": [
  {
   "cell_type": "code",
   "execution_count": 1,
   "metadata": {},
   "outputs": [],
   "source": [
    "import numpy as np\n",
    "import pandas as pd\n",
    "import matplotlib.pyplot as plt"
   ]
  },
  {
   "cell_type": "code",
   "execution_count": 2,
   "metadata": {},
   "outputs": [
    {
     "data": {
      "text/html": [
       "<div>\n",
       "<style scoped>\n",
       "    .dataframe tbody tr th:only-of-type {\n",
       "        vertical-align: middle;\n",
       "    }\n",
       "\n",
       "    .dataframe tbody tr th {\n",
       "        vertical-align: top;\n",
       "    }\n",
       "\n",
       "    .dataframe thead th {\n",
       "        text-align: right;\n",
       "    }\n",
       "</style>\n",
       "<table border=\"1\" class=\"dataframe\">\n",
       "  <thead>\n",
       "    <tr style=\"text-align: right;\">\n",
       "      <th></th>\n",
       "      <th>Unnamed: 0</th>\n",
       "      <th>S.No</th>\n",
       "      <th>USERNAME</th>\n",
       "      <th>Caption</th>\n",
       "      <th>Followers</th>\n",
       "      <th>Hashtags</th>\n",
       "      <th>Time since posted</th>\n",
       "      <th>Likes</th>\n",
       "    </tr>\n",
       "  </thead>\n",
       "  <tbody>\n",
       "    <tr>\n",
       "      <th>0</th>\n",
       "      <td>0</td>\n",
       "      <td>1</td>\n",
       "      <td>mikequindazzi</td>\n",
       "      <td>Who are #DataScientist and what do they do? &gt;&gt;...</td>\n",
       "      <td>1600</td>\n",
       "      <td>#MachineLearning #AI #DataAnalytics #DataScien...</td>\n",
       "      <td>11 hours</td>\n",
       "      <td>139</td>\n",
       "    </tr>\n",
       "    <tr>\n",
       "      <th>1</th>\n",
       "      <td>1</td>\n",
       "      <td>2</td>\n",
       "      <td>drgorillapaints</td>\n",
       "      <td>We all know where it’s going. We just have to ...</td>\n",
       "      <td>880</td>\n",
       "      <td>#deck .#mac #macintosh#sayhello #apple #steve...</td>\n",
       "      <td>2 hours</td>\n",
       "      <td>23</td>\n",
       "    </tr>\n",
       "    <tr>\n",
       "      <th>2</th>\n",
       "      <td>2</td>\n",
       "      <td>3</td>\n",
       "      <td>aitrading_official</td>\n",
       "      <td>Alexander Barinov: 4 years as CFO in multinati...</td>\n",
       "      <td>255</td>\n",
       "      <td>#whoiswho #aitrading #ai #aitradingteam#instat...</td>\n",
       "      <td>2 hours</td>\n",
       "      <td>25</td>\n",
       "    </tr>\n",
       "    <tr>\n",
       "      <th>3</th>\n",
       "      <td>3</td>\n",
       "      <td>4</td>\n",
       "      <td>opensourcedworkplace</td>\n",
       "      <td>sfad</td>\n",
       "      <td>340</td>\n",
       "      <td>#iot #cre#workplace #CDO #bigdata #technology#...</td>\n",
       "      <td>3 hours</td>\n",
       "      <td>49</td>\n",
       "    </tr>\n",
       "    <tr>\n",
       "      <th>4</th>\n",
       "      <td>4</td>\n",
       "      <td>5</td>\n",
       "      <td>crea.vision</td>\n",
       "      <td>Ever missed a call while your phone was chargi...</td>\n",
       "      <td>304</td>\n",
       "      <td>#instamachinelearning #instabigdata#instamarke...</td>\n",
       "      <td>3 hours</td>\n",
       "      <td>30</td>\n",
       "    </tr>\n",
       "  </tbody>\n",
       "</table>\n",
       "</div>"
      ],
      "text/plain": [
       "   Unnamed: 0  S.No              USERNAME  \\\n",
       "0           0     1         mikequindazzi   \n",
       "1           1     2       drgorillapaints   \n",
       "2           2     3    aitrading_official   \n",
       "3           3     4  opensourcedworkplace   \n",
       "4           4     5           crea.vision   \n",
       "\n",
       "                                             Caption  Followers  \\\n",
       "0  Who are #DataScientist and what do they do? >>...       1600   \n",
       "1  We all know where it’s going. We just have to ...        880   \n",
       "2  Alexander Barinov: 4 years as CFO in multinati...        255   \n",
       "3                                               sfad        340   \n",
       "4  Ever missed a call while your phone was chargi...        304   \n",
       "\n",
       "                                            Hashtags Time since posted  Likes  \n",
       "0  #MachineLearning #AI #DataAnalytics #DataScien...          11 hours    139  \n",
       "1   #deck .#mac #macintosh#sayhello #apple #steve...           2 hours     23  \n",
       "2  #whoiswho #aitrading #ai #aitradingteam#instat...           2 hours     25  \n",
       "3  #iot #cre#workplace #CDO #bigdata #technology#...           3 hours     49  \n",
       "4  #instamachinelearning #instabigdata#instamarke...           3 hours     30  "
      ]
     },
     "execution_count": 2,
     "metadata": {},
     "output_type": "execute_result"
    }
   ],
   "source": [
    "df = pd.read_csv('insta.csv')\n",
    "df.head()"
   ]
  },
  {
   "cell_type": "code",
   "execution_count": 3,
   "metadata": {},
   "outputs": [
    {
     "data": {
      "text/html": [
       "<div>\n",
       "<style scoped>\n",
       "    .dataframe tbody tr th:only-of-type {\n",
       "        vertical-align: middle;\n",
       "    }\n",
       "\n",
       "    .dataframe tbody tr th {\n",
       "        vertical-align: top;\n",
       "    }\n",
       "\n",
       "    .dataframe thead th {\n",
       "        text-align: right;\n",
       "    }\n",
       "</style>\n",
       "<table border=\"1\" class=\"dataframe\">\n",
       "  <thead>\n",
       "    <tr style=\"text-align: right;\">\n",
       "      <th></th>\n",
       "      <th>Followers</th>\n",
       "      <th>Time since posted</th>\n",
       "      <th>Likes</th>\n",
       "    </tr>\n",
       "  </thead>\n",
       "  <tbody>\n",
       "    <tr>\n",
       "      <th>0</th>\n",
       "      <td>1600</td>\n",
       "      <td>11 hours</td>\n",
       "      <td>139</td>\n",
       "    </tr>\n",
       "    <tr>\n",
       "      <th>1</th>\n",
       "      <td>880</td>\n",
       "      <td>2 hours</td>\n",
       "      <td>23</td>\n",
       "    </tr>\n",
       "    <tr>\n",
       "      <th>2</th>\n",
       "      <td>255</td>\n",
       "      <td>2 hours</td>\n",
       "      <td>25</td>\n",
       "    </tr>\n",
       "    <tr>\n",
       "      <th>3</th>\n",
       "      <td>340</td>\n",
       "      <td>3 hours</td>\n",
       "      <td>49</td>\n",
       "    </tr>\n",
       "    <tr>\n",
       "      <th>4</th>\n",
       "      <td>304</td>\n",
       "      <td>3 hours</td>\n",
       "      <td>30</td>\n",
       "    </tr>\n",
       "  </tbody>\n",
       "</table>\n",
       "</div>"
      ],
      "text/plain": [
       "   Followers Time since posted  Likes\n",
       "0       1600          11 hours    139\n",
       "1        880           2 hours     23\n",
       "2        255           2 hours     25\n",
       "3        340           3 hours     49\n",
       "4        304           3 hours     30"
      ]
     },
     "execution_count": 3,
     "metadata": {},
     "output_type": "execute_result"
    }
   ],
   "source": [
    "df = df.drop(columns = ['Unnamed: 0','S.No','USERNAME','Caption','Hashtags'])\n",
    "df.head()"
   ]
  },
  {
   "cell_type": "code",
   "execution_count": 4,
   "metadata": {},
   "outputs": [],
   "source": [
    "from sklearn.linear_model import LinearRegression"
   ]
  },
  {
   "cell_type": "code",
   "execution_count": 5,
   "metadata": {},
   "outputs": [],
   "source": [
    "df['Time since posted'] = df['Time since posted'].apply(lambda x:int(x.split()[0]))"
   ]
  },
  {
   "cell_type": "code",
   "execution_count": 6,
   "metadata": {},
   "outputs": [
    {
     "data": {
      "text/html": [
       "<div>\n",
       "<style scoped>\n",
       "    .dataframe tbody tr th:only-of-type {\n",
       "        vertical-align: middle;\n",
       "    }\n",
       "\n",
       "    .dataframe tbody tr th {\n",
       "        vertical-align: top;\n",
       "    }\n",
       "\n",
       "    .dataframe thead th {\n",
       "        text-align: right;\n",
       "    }\n",
       "</style>\n",
       "<table border=\"1\" class=\"dataframe\">\n",
       "  <thead>\n",
       "    <tr style=\"text-align: right;\">\n",
       "      <th></th>\n",
       "      <th>Followers</th>\n",
       "      <th>Time since posted</th>\n",
       "      <th>Likes</th>\n",
       "    </tr>\n",
       "  </thead>\n",
       "  <tbody>\n",
       "    <tr>\n",
       "      <th>0</th>\n",
       "      <td>1600</td>\n",
       "      <td>11</td>\n",
       "      <td>139</td>\n",
       "    </tr>\n",
       "    <tr>\n",
       "      <th>1</th>\n",
       "      <td>880</td>\n",
       "      <td>2</td>\n",
       "      <td>23</td>\n",
       "    </tr>\n",
       "    <tr>\n",
       "      <th>2</th>\n",
       "      <td>255</td>\n",
       "      <td>2</td>\n",
       "      <td>25</td>\n",
       "    </tr>\n",
       "    <tr>\n",
       "      <th>3</th>\n",
       "      <td>340</td>\n",
       "      <td>3</td>\n",
       "      <td>49</td>\n",
       "    </tr>\n",
       "    <tr>\n",
       "      <th>4</th>\n",
       "      <td>304</td>\n",
       "      <td>3</td>\n",
       "      <td>30</td>\n",
       "    </tr>\n",
       "    <tr>\n",
       "      <th>...</th>\n",
       "      <td>...</td>\n",
       "      <td>...</td>\n",
       "      <td>...</td>\n",
       "    </tr>\n",
       "    <tr>\n",
       "      <th>95</th>\n",
       "      <td>614</td>\n",
       "      <td>3</td>\n",
       "      <td>31</td>\n",
       "    </tr>\n",
       "    <tr>\n",
       "      <th>96</th>\n",
       "      <td>450</td>\n",
       "      <td>3</td>\n",
       "      <td>42</td>\n",
       "    </tr>\n",
       "    <tr>\n",
       "      <th>97</th>\n",
       "      <td>182</td>\n",
       "      <td>3</td>\n",
       "      <td>10</td>\n",
       "    </tr>\n",
       "    <tr>\n",
       "      <th>98</th>\n",
       "      <td>2039</td>\n",
       "      <td>3</td>\n",
       "      <td>222</td>\n",
       "    </tr>\n",
       "    <tr>\n",
       "      <th>99</th>\n",
       "      <td>741</td>\n",
       "      <td>3</td>\n",
       "      <td>109</td>\n",
       "    </tr>\n",
       "  </tbody>\n",
       "</table>\n",
       "<p>100 rows × 3 columns</p>\n",
       "</div>"
      ],
      "text/plain": [
       "    Followers  Time since posted  Likes\n",
       "0        1600                 11    139\n",
       "1         880                  2     23\n",
       "2         255                  2     25\n",
       "3         340                  3     49\n",
       "4         304                  3     30\n",
       "..        ...                ...    ...\n",
       "95        614                  3     31\n",
       "96        450                  3     42\n",
       "97        182                  3     10\n",
       "98       2039                  3    222\n",
       "99        741                  3    109\n",
       "\n",
       "[100 rows x 3 columns]"
      ]
     },
     "execution_count": 6,
     "metadata": {},
     "output_type": "execute_result"
    }
   ],
   "source": [
    "df"
   ]
  },
  {
   "cell_type": "code",
   "execution_count": 7,
   "metadata": {},
   "outputs": [],
   "source": [
    "from sklearn.model_selection import train_test_split\n",
    "x = df.iloc[:,:-1].values\n",
    "y = df.iloc[:,-1].values\n",
    "train_x,test_x,train_y,test_y = train_test_split(x,y,random_state=999,test_size=0.2)"
   ]
  },
  {
   "cell_type": "code",
   "execution_count": 8,
   "metadata": {},
   "outputs": [
    {
     "data": {
      "text/plain": [
       "array([[1600,   11],\n",
       "       [ 880,    2],\n",
       "       [ 255,    2],\n",
       "       [ 340,    3],\n",
       "       [ 304,    3],\n",
       "       [1231,    3],\n",
       "       [ 259,    3],\n",
       "       [1433,    4],\n",
       "       [  13,    4],\n",
       "       [ 450,    7],\n",
       "       [ 149,    7],\n",
       "       [2232,    8],\n",
       "       [1061,    9],\n",
       "       [ 533,   11],\n",
       "       [2904,    3],\n",
       "       [ 971,    3],\n",
       "       [ 285,    4],\n",
       "       [ 520,    4],\n",
       "       [  75,    4],\n",
       "       [2691,    4],\n",
       "       [ 966,    5],\n",
       "       [ 334,    2],\n",
       "       [1041,    2],\n",
       "       [4496,    2],\n",
       "       [ 166,    2],\n",
       "       [1211,    2],\n",
       "       [ 265,    2],\n",
       "       [1618,   20],\n",
       "       [ 279,    4],\n",
       "       [ 279,    2],\n",
       "       [ 828,    2],\n",
       "       [  12,    2],\n",
       "       [ 894,    2],\n",
       "       [ 610,    2],\n",
       "       [ 226,    2],\n",
       "       [1168,    2],\n",
       "       [ 835,    2],\n",
       "       [ 124,    2],\n",
       "       [ 193,    2],\n",
       "       [1600,   14],\n",
       "       [ 258,    2],\n",
       "       [ 105,    2],\n",
       "       [ 273,    2],\n",
       "       [ 914,    2],\n",
       "       [ 118,    2],\n",
       "       [ 122,    2],\n",
       "       [1180,    2],\n",
       "       [3139,    3],\n",
       "       [3725,    3],\n",
       "       [ 935,    4],\n",
       "       [1766,    4],\n",
       "       [2277,    4],\n",
       "       [ 348,    4],\n",
       "       [  87,    4],\n",
       "       [2785,    7],\n",
       "       [3448,   24],\n",
       "       [ 530,    2],\n",
       "       [3147,    2],\n",
       "       [ 918,    2],\n",
       "       [4496,    2],\n",
       "       [ 145,    2],\n",
       "       [  11,    3],\n",
       "       [ 577,    2],\n",
       "       [  66,    3],\n",
       "       [  89,    2],\n",
       "       [2014,    2],\n",
       "       [ 151,    2],\n",
       "       [2175,    2],\n",
       "       [ 371,    2],\n",
       "       [1003,    2],\n",
       "       [1200,    2],\n",
       "       [ 383,    2],\n",
       "       [ 955,    2],\n",
       "       [2372,    2],\n",
       "       [ 740,    2],\n",
       "       [2573,    2],\n",
       "       [ 181,    2],\n",
       "       [ 631,    2],\n",
       "       [ 246,    2],\n",
       "       [ 460,    2],\n",
       "       [ 140,    2],\n",
       "       [ 888,    2],\n",
       "       [ 845,    2],\n",
       "       [  91,    3],\n",
       "       [ 361,    3],\n",
       "       [2455,    3],\n",
       "       [ 361,    4],\n",
       "       [ 262,    2],\n",
       "       [1158,    2],\n",
       "       [1196,    2],\n",
       "       [ 863,    2],\n",
       "       [ 971,    2],\n",
       "       [ 106,    2],\n",
       "       [ 179,    2],\n",
       "       [  49,    3],\n",
       "       [ 614,    3],\n",
       "       [ 450,    3],\n",
       "       [ 182,    3],\n",
       "       [2039,    3],\n",
       "       [ 741,    3]], dtype=int64)"
      ]
     },
     "execution_count": 8,
     "metadata": {},
     "output_type": "execute_result"
    }
   ],
   "source": [
    "x"
   ]
  },
  {
   "cell_type": "code",
   "execution_count": 9,
   "metadata": {},
   "outputs": [
    {
     "data": {
      "text/plain": [
       "array([139,  23,  25,  49,  30,  18,  35,  86,  22,  18,  31,  48,  80,\n",
       "        94,  28,  53,  29,  46,  30,  34, 198,  19,  20,  11,  10,  46,\n",
       "        25, 148,  43,  37,  90,  19,  14,  30, 273,  13,  93,  24,  18,\n",
       "       136,  24,   8,  41,  81,  16,  31,  24,  51,  43,  20,  25, 157,\n",
       "        17,  24,  65, 349,  17,  10,  21,  11,  16,  10,  27,  16,  19,\n",
       "        29,  31,  41,  19,  40,  21,  50,  20,  10,  35, 119,  11,  55,\n",
       "        12,  29,  28,  43,  31,  14,  33,  24,  43,   9,  29,  16,  32,\n",
       "        46,  12,  20,  24,  31,  42,  10, 222, 109], dtype=int64)"
      ]
     },
     "execution_count": 9,
     "metadata": {},
     "output_type": "execute_result"
    }
   ],
   "source": [
    "y"
   ]
  },
  {
   "cell_type": "code",
   "execution_count": 10,
   "metadata": {},
   "outputs": [
    {
     "data": {
      "text/plain": [
       "array([[1433,    4],\n",
       "       [ 258,    2],\n",
       "       [ 610,    2],\n",
       "       [ 971,    3],\n",
       "       [1180,    2],\n",
       "       [1200,    2],\n",
       "       [ 226,    2],\n",
       "       [  11,    3],\n",
       "       [ 246,    2],\n",
       "       [1168,    2],\n",
       "       [ 105,    2],\n",
       "       [ 966,    5],\n",
       "       [ 361,    3],\n",
       "       [ 124,    2],\n",
       "       [1158,    2],\n",
       "       [1041,    2],\n",
       "       [ 140,    2],\n",
       "       [ 828,    2],\n",
       "       [1211,    2],\n",
       "       [  87,    4],\n",
       "       [ 262,    2],\n",
       "       [2573,    2],\n",
       "       [2014,    2],\n",
       "       [3139,    3],\n",
       "       [1061,    9],\n",
       "       [  49,    3],\n",
       "       [ 614,    3],\n",
       "       [3448,   24],\n",
       "       [4496,    2],\n",
       "       [ 450,    7],\n",
       "       [ 118,    2],\n",
       "       [ 179,    2],\n",
       "       [2039,    3],\n",
       "       [ 340,    3],\n",
       "       [ 259,    3],\n",
       "       [2904,    3],\n",
       "       [ 145,    2],\n",
       "       [  66,    3],\n",
       "       [ 880,    2],\n",
       "       [ 361,    4],\n",
       "       [ 935,    4],\n",
       "       [3147,    2],\n",
       "       [ 166,    2],\n",
       "       [ 741,    3],\n",
       "       [ 273,    2],\n",
       "       [2785,    7],\n",
       "       [2372,    2],\n",
       "       [1231,    3],\n",
       "       [ 348,    4],\n",
       "       [4496,    2],\n",
       "       [ 845,    2],\n",
       "       [1618,   20],\n",
       "       [ 450,    3],\n",
       "       [ 631,    2],\n",
       "       [ 533,   11],\n",
       "       [ 304,    3],\n",
       "       [ 894,    2],\n",
       "       [ 914,    2],\n",
       "       [ 888,    2],\n",
       "       [ 520,    4],\n",
       "       [ 383,    2],\n",
       "       [ 577,    2],\n",
       "       [1766,    4],\n",
       "       [ 334,    2],\n",
       "       [2455,    3],\n",
       "       [2232,    8],\n",
       "       [ 151,    2],\n",
       "       [1003,    2],\n",
       "       [3725,    3],\n",
       "       [ 863,    2],\n",
       "       [  13,    4],\n",
       "       [ 285,    4],\n",
       "       [2277,    4],\n",
       "       [1196,    2],\n",
       "       [  12,    2],\n",
       "       [ 971,    2],\n",
       "       [ 955,    2],\n",
       "       [ 182,    3],\n",
       "       [ 106,    2],\n",
       "       [  89,    2]], dtype=int64)"
      ]
     },
     "execution_count": 10,
     "metadata": {},
     "output_type": "execute_result"
    }
   ],
   "source": [
    "train_x"
   ]
  },
  {
   "cell_type": "code",
   "execution_count": 11,
   "metadata": {},
   "outputs": [
    {
     "data": {
      "text/plain": [
       "array([ 86,  24,  30,  53,  24,  21, 273,  10,  12,  13,   8, 198,  33,\n",
       "        24,  29,  20,  28,  90,  46,  24,   9, 119,  29,  51,  80,  24,\n",
       "        31, 349,  11,  18,  16,  20, 222,  49,  35,  28,  16,  16,  23,\n",
       "        43,  20,  10,  10, 109,  41,  65,  10,  18,  17,  11,  31, 148,\n",
       "        42,  55,  94,  30,  14,  81,  43,  46,  50,  27,  25,  19,  24,\n",
       "        48,  31,  40,  43,  32,  22,  29, 157,  16,  19,  46,  20,  10,\n",
       "        12,  19], dtype=int64)"
      ]
     },
     "execution_count": 11,
     "metadata": {},
     "output_type": "execute_result"
    }
   ],
   "source": [
    "train_y"
   ]
  },
  {
   "cell_type": "code",
   "execution_count": 12,
   "metadata": {},
   "outputs": [
    {
     "data": {
      "text/plain": [
       "array([[1600,   11],\n",
       "       [ 371,    2],\n",
       "       [ 279,    2],\n",
       "       [ 835,    2],\n",
       "       [2691,    4],\n",
       "       [ 265,    2],\n",
       "       [ 740,    2],\n",
       "       [1600,   14],\n",
       "       [ 918,    2],\n",
       "       [  75,    4],\n",
       "       [ 149,    7],\n",
       "       [ 530,    2],\n",
       "       [ 193,    2],\n",
       "       [ 181,    2],\n",
       "       [ 122,    2],\n",
       "       [2175,    2],\n",
       "       [ 255,    2],\n",
       "       [ 460,    2],\n",
       "       [ 279,    4],\n",
       "       [  91,    3]], dtype=int64)"
      ]
     },
     "execution_count": 12,
     "metadata": {},
     "output_type": "execute_result"
    }
   ],
   "source": [
    "test_x"
   ]
  },
  {
   "cell_type": "code",
   "execution_count": 13,
   "metadata": {},
   "outputs": [
    {
     "data": {
      "text/plain": [
       "array([139,  19,  37,  93,  34,  25,  35, 136,  21,  30,  31,  17,  18,\n",
       "        11,  31,  41,  25,  29,  43,  14], dtype=int64)"
      ]
     },
     "execution_count": 13,
     "metadata": {},
     "output_type": "execute_result"
    }
   ],
   "source": [
    "test_y"
   ]
  },
  {
   "cell_type": "code",
   "execution_count": 14,
   "metadata": {},
   "outputs": [
    {
     "data": {
      "text/plain": [
       "LinearRegression(copy_X=True, fit_intercept=True, n_jobs=None, normalize=False)"
      ]
     },
     "execution_count": 14,
     "metadata": {},
     "output_type": "execute_result"
    }
   ],
   "source": [
    "reg = LinearRegression()\n",
    "reg.fit(train_x,train_y)"
   ]
  },
  {
   "cell_type": "code",
   "execution_count": 15,
   "metadata": {},
   "outputs": [],
   "source": [
    "from sklearn.metrics import r2_score"
   ]
  },
  {
   "cell_type": "code",
   "execution_count": 16,
   "metadata": {},
   "outputs": [],
   "source": [
    "from sklearn.metrics import mean_squared_error"
   ]
  },
  {
   "cell_type": "code",
   "execution_count": 17,
   "metadata": {},
   "outputs": [],
   "source": [
    "y_pred = reg.predict(test_x)"
   ]
  },
  {
   "cell_type": "code",
   "execution_count": 18,
   "metadata": {},
   "outputs": [
    {
     "data": {
      "text/plain": [
       "455.857677645365"
      ]
     },
     "execution_count": 18,
     "metadata": {},
     "output_type": "execute_result"
    }
   ],
   "source": [
    "mean_squared_error(test_y,y_pred)"
   ]
  },
  {
   "cell_type": "code",
   "execution_count": 19,
   "metadata": {},
   "outputs": [
    {
     "data": {
      "text/plain": [
       "0.649730259848849"
      ]
     },
     "execution_count": 19,
     "metadata": {},
     "output_type": "execute_result"
    }
   ],
   "source": [
    "r2_score(test_y,y_pred)"
   ]
  },
  {
   "cell_type": "code",
   "execution_count": 20,
   "metadata": {},
   "outputs": [],
   "source": [
    "#Working for a better model"
   ]
  },
  {
   "cell_type": "code",
   "execution_count": 21,
   "metadata": {},
   "outputs": [],
   "source": [
    "from sklearn.preprocessing import StandardScaler"
   ]
  },
  {
   "cell_type": "code",
   "execution_count": 22,
   "metadata": {},
   "outputs": [],
   "source": [
    "#Scaler For Input Variables\n",
    "sc_x = StandardScaler()\n",
    "train_x_2 = sc_x.fit_transform(train_x)\n",
    "test_x_2 = sc_x.transform(test_x)\n",
    "#Scaler for Output Variables\n",
    "test_y_2 = test_y.reshape((len(test_y),1))\n",
    "train_y_2 = train_y.reshape((len(train_y),1))\n",
    "sc_y = StandardScaler()\n",
    "train_y_2 = sc_y.fit_transform(train_y_2)\n",
    "test_y_2 = sc_y.transform(test_y_2)"
   ]
  },
  {
   "cell_type": "code",
   "execution_count": 23,
   "metadata": {},
   "outputs": [
    {
     "data": {
      "text/plain": [
       "LinearRegression(copy_X=True, fit_intercept=True, n_jobs=None, normalize=False)"
      ]
     },
     "execution_count": 23,
     "metadata": {},
     "output_type": "execute_result"
    }
   ],
   "source": [
    "reg2 = LinearRegression()\n",
    "reg2.fit(train_x,train_y_2)"
   ]
  },
  {
   "cell_type": "code",
   "execution_count": 24,
   "metadata": {},
   "outputs": [],
   "source": [
    "y_pred_2 = reg2.predict(test_x)"
   ]
  },
  {
   "cell_type": "code",
   "execution_count": 25,
   "metadata": {},
   "outputs": [
    {
     "data": {
      "text/plain": [
       "455.857677645365"
      ]
     },
     "execution_count": 25,
     "metadata": {},
     "output_type": "execute_result"
    }
   ],
   "source": [
    "mean_squared_error(sc_y.inverse_transform(test_y_2),sc_y.inverse_transform(y_pred_2))"
   ]
  },
  {
   "cell_type": "code",
   "execution_count": 26,
   "metadata": {},
   "outputs": [
    {
     "data": {
      "text/plain": [
       "0.13321309196798256"
      ]
     },
     "execution_count": 26,
     "metadata": {},
     "output_type": "execute_result"
    }
   ],
   "source": [
    "mean_squared_error(test_y_2,y_pred_2)"
   ]
  },
  {
   "cell_type": "code",
   "execution_count": 27,
   "metadata": {},
   "outputs": [
    {
     "data": {
      "text/plain": [
       "array([107.30347863])"
      ]
     },
     "execution_count": 27,
     "metadata": {},
     "output_type": "execute_result"
    }
   ],
   "source": [
    "reg.predict([[300,10]])"
   ]
  },
  {
   "cell_type": "code",
   "execution_count": 28,
   "metadata": {},
   "outputs": [],
   "source": [
    "#Making predictions from both regression models"
   ]
  },
  {
   "cell_type": "code",
   "execution_count": 29,
   "metadata": {},
   "outputs": [
    {
     "data": {
      "text/plain": [
       "array([[27.44337642]])"
      ]
     },
     "execution_count": 29,
     "metadata": {},
     "output_type": "execute_result"
    }
   ],
   "source": [
    "sc_y.inverse_transform(reg2.predict(sc_x.transform([[300,10]])))"
   ]
  },
  {
   "cell_type": "code",
   "execution_count": 30,
   "metadata": {},
   "outputs": [
    {
     "data": {
      "text/plain": [
       "0.649730259848849"
      ]
     },
     "execution_count": 30,
     "metadata": {},
     "output_type": "execute_result"
    }
   ],
   "source": [
    "r2_score(test_y,y_pred)"
   ]
  },
  {
   "cell_type": "code",
   "execution_count": 31,
   "metadata": {},
   "outputs": [
    {
     "data": {
      "text/plain": [
       "0.649730259848849"
      ]
     },
     "execution_count": 31,
     "metadata": {},
     "output_type": "execute_result"
    }
   ],
   "source": [
    "r2_score(test_y_2,y_pred_2)"
   ]
  }
 ],
 "metadata": {
  "kernelspec": {
   "display_name": "Python 3",
   "language": "python",
   "name": "python3"
  },
  "language_info": {
   "codemirror_mode": {
    "name": "ipython",
    "version": 3
   },
   "file_extension": ".py",
   "mimetype": "text/x-python",
   "name": "python",
   "nbconvert_exporter": "python",
   "pygments_lexer": "ipython3",
   "version": "3.7.6"
  }
 },
 "nbformat": 4,
 "nbformat_minor": 4
}
